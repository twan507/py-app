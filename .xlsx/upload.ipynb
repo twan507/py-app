{
 "cells": [
  {
   "cell_type": "code",
   "execution_count": 2,
   "metadata": {},
   "outputs": [],
   "source": [
    "import os\n",
    "import pandas as pd\n",
    "import numpy as np\n",
    "from datetime import timedelta, datetime\n",
    "import datetime as dt\n",
    "import pandas_ta as ta\n",
    "import yfinance as yf\n",
    "import copy\n",
    "import random\n",
    "from pymongo import MongoClient\n",
    "import sys\n",
    "from dotenv import load_dotenv\n",
    "import warnings\n",
    "\n",
    "warnings.filterwarnings(\"ignore\")\n",
    "warnings.simplefilter('ignore', category=FutureWarning)\n",
    "pd.options.mode.chained_assignment = None\n",
    "\n",
    "load_dotenv()\n",
    "mongo_client = MongoClient(os.environ.get(\"MONGO_URI\"))\n",
    "stock_db = mongo_client[\"stock_db\"]\n",
    "ref_db = mongo_client[\"ref_db\"]"
   ]
  },
  {
   "cell_type": "code",
   "execution_count": 3,
   "metadata": {},
   "outputs": [],
   "source": [
    "full_stock_classification = pd.read_excel(\"../.xlsx/full_stock_classification.xlsx\", sheet_name='classification')\n",
    "name_map = pd.read_excel(\"../.xlsx/full_stock_classification.xlsx\", sheet_name='name_map').drop(columns=['group', 'order'],axis=1)\n",
    "order_map = pd.read_excel(\"../.xlsx/full_stock_classification.xlsx\", sheet_name='name_map').drop(columns=['group', 'full_name'],axis=1)\n",
    "group_map = pd.read_excel(\"../.xlsx/full_stock_classification.xlsx\", sheet_name='name_map').drop(columns=['order', 'full_name'],axis=1)\n",
    "\n",
    "itd_time_percent = pd.read_excel(\"../.xlsx/itd_time_percent.xlsx\", sheet_name='itd_time_percent')\n",
    "quarter_stock_map = pd.read_excel(\"../.xlsx/quarter_stock_map.xlsx\", sheet_name='quarter_stock_list')\n",
    "quarter_map = pd.read_excel(\"../.xlsx/quarter_stock_map.xlsx\", sheet_name='quarter_map')"
   ]
  },
  {
   "cell_type": "code",
   "execution_count": 4,
   "metadata": {},
   "outputs": [],
   "source": [
    "def overwrite_mongo(collection, df):\n",
    "    # Lấy tên collection hiện tại và database\n",
    "    collection_name = collection.name\n",
    "    db = collection.database  # Truy cập database từ collection\n",
    "    temp_collection_name = f\"temp_{collection_name}\"\n",
    "    old_collection_name = f\"old_{collection_name}\"\n",
    "\n",
    "    # Reset index của DataFrame\n",
    "    df = df.reset_index(drop=True)\n",
    "    records = df.replace({pd.NaT: None}).to_dict(orient='records')\n",
    "\n",
    "    # 1. Lưu dữ liệu vào collection tạm\n",
    "    temp_collection = db[temp_collection_name]\n",
    "    temp_collection.drop()  # Đảm bảo collection tạm sạch trước khi insert\n",
    "    temp_collection.insert_many(records)\n",
    "\n",
    "    # 2. Rename collection cũ thành 'old_' (nếu tồn tại)\n",
    "    if collection_name in db.list_collection_names():\n",
    "        db[collection_name].rename(old_collection_name, dropTarget=True)\n",
    "\n",
    "    # 3. Rename collection tạm thành tên chuẩn\n",
    "    temp_collection.rename(collection_name, dropTarget=True)\n",
    "\n",
    "    # 4. Xóa collection 'old_' (nếu tồn tại)\n",
    "    if old_collection_name in db.list_collection_names():\n",
    "        db[old_collection_name].drop()\n",
    "        \n",
    "overwrite_mongo(ref_db[\"full_stock_classification\"], full_stock_classification)\n",
    "overwrite_mongo(ref_db[\"name_map\"], name_map)\n",
    "overwrite_mongo(ref_db[\"order_map\"], order_map)\n",
    "overwrite_mongo(ref_db[\"group_map\"], group_map)\n",
    "overwrite_mongo(ref_db[\"itd_time_percent\"], itd_time_percent)\n",
    "overwrite_mongo(ref_db[\"quarter_stock_map\"], quarter_stock_map)\n",
    "overwrite_mongo(ref_db[\"quarter_map\"], quarter_map)"
   ]
  }
 ],
 "metadata": {
  "kernelspec": {
   "display_name": "base",
   "language": "python",
   "name": "python3"
  },
  "language_info": {
   "codemirror_mode": {
    "name": "ipython",
    "version": 3
   },
   "file_extension": ".py",
   "mimetype": "text/x-python",
   "name": "python",
   "nbconvert_exporter": "python",
   "pygments_lexer": "ipython3",
   "version": "3.12.7"
  }
 },
 "nbformat": 4,
 "nbformat_minor": 2
}
