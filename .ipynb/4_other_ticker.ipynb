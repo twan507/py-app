{
    "cells": [
        {
            "cell_type": "code",
            "execution_count": 8,
            "metadata": {},
            "outputs": [],
            "source": [
                "import os\n",
                "import pandas as pd\n",
                "import numpy as np\n",
                "from datetime import timedelta, datetime\n",
                "import datetime as dt\n",
                "import pandas_ta as ta\n",
                "import yfinance as yf\n",
                "import copy\n",
                "import random\n",
                "from pymongo import MongoClient\n",
                "import sys\n",
                "from dotenv import load_dotenv\n",
                "import warnings\n",
                "import time\n",
                "from sqlalchemy import create_engine, text\n",
                "\n",
                "warnings.filterwarnings(\"ignore\")\n",
                "warnings.simplefilter('ignore', category=FutureWarning)\n",
                "pd.options.mode.chained_assignment = None\n",
                "\n",
                "load_dotenv()\n",
                "mongo_client = MongoClient(os.environ.get(\"MONGO_URI\"))\n",
                "stock_db = mongo_client[\"stock_db\"]\n",
                "ref_db = mongo_client[\"ref_db\"]\n",
                "\n",
                "vsuccess_engine = create_engine(os.environ.get(\"VSUCCESS_URI\"))\n",
                "twan_engine = create_engine(os.environ.get(\"TWAN_URI\"))"
            ]
        },
        {
            "cell_type": "markdown",
            "metadata": {},
            "source": [
                "#### Chuẩn bị các dữ liệu"
            ]
        },
        {
            "cell_type": "markdown",
            "metadata": {},
            "source": [
                "##### Các hàm giải mã và lấy dữ liệu"
            ]
        },
        {
            "cell_type": "markdown",
            "metadata": {},
            "source": [
                "- Lấy dữ liệu từ MongoDB"
            ]
        },
        {
            "cell_type": "code",
            "execution_count": 9,
            "metadata": {},
            "outputs": [],
            "source": [
                "def get_mongo_df(db_collection, df_name, find_query=None, projection=None):\n",
                "    # Truy cập collection\n",
                "    collection = db_collection[df_name]\n",
                "    # Nếu không truyền vào find_query thì mặc định lấy tất cả document\n",
                "    if find_query is None:\n",
                "        find_query = {}\n",
                "    # Nếu không truyền vào projection thì mặc định loại bỏ trường _id\n",
                "    if projection is None:\n",
                "        projection = {\"_id\": 0}\n",
                "    # Thực hiện lệnh find với điều kiện và projection đã cho\n",
                "    docs = collection.find(find_query, projection)\n",
                "    # Chuyển đổi kết quả sang DataFrame và trả về\n",
                "    df = pd.DataFrame(list(docs))\n",
                "    return df\n",
                "\n",
                "def overwrite_mongo(collection, df):\n",
                "    # Lấy tên collection hiện tại và database\n",
                "    collection_name = collection.name\n",
                "    db = collection.database  # Truy cập database từ collection\n",
                "    temp_collection_name = f\"temp_{collection_name}\"\n",
                "    old_collection_name = f\"old_{collection_name}\"\n",
                "\n",
                "    # Reset index của DataFrame\n",
                "    df = df.reset_index(drop=True)\n",
                "    records = df.replace({pd.NaT: None}).to_dict(orient='records')\n",
                "\n",
                "    # 1. Lưu dữ liệu vào collection tạm\n",
                "    temp_collection = db[temp_collection_name]\n",
                "    temp_collection.drop()  # Đảm bảo collection tạm sạch trước khi insert\n",
                "    temp_collection.insert_many(records)\n",
                "\n",
                "    # 2. Rename collection cũ thành 'old_' (nếu tồn tại)\n",
                "    if collection_name in db.list_collection_names():\n",
                "        db[collection_name].rename(old_collection_name, dropTarget=True)\n",
                "\n",
                "    # 3. Rename collection tạm thành tên chuẩn\n",
                "    temp_collection.rename(collection_name, dropTarget=True)\n",
                "\n",
                "    # 4. Xóa collection 'old_' (nếu tồn tại)\n",
                "    if old_collection_name in db.list_collection_names():\n",
                "        db[old_collection_name].drop()"
            ]
        },
        {
            "cell_type": "markdown",
            "metadata": {},
            "source": [
                "- Lấy ra tên quý hiện tại hoặc quý trước đó"
            ]
        },
        {
            "cell_type": "code",
            "execution_count": 10,
            "metadata": {},
            "outputs": [],
            "source": [
                "def get_quarter(name):\n",
                "    now = datetime.now()\n",
                "    year = now.year\n",
                "    month = now.month\n",
                "    if 1 <= month <= 3:\n",
                "        quarter = \"q1\"\n",
                "        previous_quarter = \"q4\"\n",
                "        previous_year = year - 1\n",
                "    elif 4 <= month <= 6:\n",
                "        quarter = \"q2\"\n",
                "        previous_quarter = \"q1\"\n",
                "        previous_year = year\n",
                "    elif 7 <= month <= 9:\n",
                "        quarter = \"q3\"\n",
                "        previous_quarter = \"q2\"\n",
                "        previous_year = year\n",
                "    else:\n",
                "        quarter = \"q4\"\n",
                "        previous_quarter = \"q3\"\n",
                "        previous_year = year\n",
                "    \n",
                "    if name == 'current_quarter':\n",
                "        return f'{quarter}_{year}'\n",
                "    if name == 'previous_quarter':\n",
                "        return f'{previous_quarter}_{previous_year}'"
            ]
        },
        {
            "cell_type": "markdown",
            "metadata": {},
            "source": [
                "- Giải mã dữ liệu từ file .dat"
            ]
        },
        {
            "cell_type": "code",
            "execution_count": 11,
            "metadata": {},
            "outputs": [],
            "source": [
                "def decode_data(file_path):\n",
                "    # Đọc dữ liệu vào một numpy array\n",
                "    data = np.fromfile(file_path, dtype=np.uint8)\n",
                "\n",
                "    # Giả định kích thước mỗi bản ghi (có thể thay đổi tùy theo cấu trúc tệp thực tế)\n",
                "    record_size = 32  # Giả định\n",
                "    num_records = len(data) // record_size\n",
                "\n",
                "    # Số lượng cột dữ liệu (bao gồm ngày, thời gian và các giá trị int32 còn lại)\n",
                "    num_columns = record_size // 4  # Mỗi giá trị int32 chiếm 4 byte\n",
                "\n",
                "    # Sử dụng numpy để cắt và giải mã dữ liệu hiệu quả hơn\n",
                "    # Tạo một numpy array để chứa các giá trị int32 và float32\n",
                "    raw_data = data.reshape(num_records, record_size // 4, 4)\n",
                "\n",
                "    # Giải mã ngày và thời gian (int32) ở cột 0 và 1, các cột còn lại là float32\n",
                "    int_data = raw_data[:, :2].view(np.int32)  # Giải mã int32 (2 cột)\n",
                "    float_data = raw_data[:, 2:].view(np.float32)  # Giải mã float32 (các cột còn lại)\n",
                "\n",
                "    # Kết hợp dữ liệu\n",
                "    records = np.hstack((int_data, float_data))\n",
                "\n",
                "    # Đảm bảo rằng dữ liệu là 2D\n",
                "    records = records.reshape(num_records, num_columns)\n",
                "\n",
                "    # Đảo ngược lại dữ liệu trước khi chuyển thành DataFrame\n",
                "    records = records[::-1]\n",
                "\n",
                "    # Chuyển đổi thành DataFrame và loại bỏ dòng đầu tiên\n",
                "    df = pd.DataFrame(records, columns=[f\"Col_{i}\" for i in range(num_columns)])\n",
                "    return df  # Loại bỏ đi dòng dữ liệu đầu tiên không cần thiết\n"
            ]
        },
        {
            "cell_type": "markdown",
            "metadata": {},
            "source": [
                "- Làm sạch dữ liệu sau khi giải mã"
            ]
        },
        {
            "cell_type": "code",
            "execution_count": 12,
            "metadata": {},
            "outputs": [],
            "source": [
                "def clean_stock_data(df_raw):\n",
                "    #Lọc ra ra dữ liệu từ năm 2020\n",
                "    df_raw = df_raw[df_raw['Col_0'] > 20200400]\n",
                "    #Tạo cột cap cho cổ phiếu\n",
                "    df_raw['cap'] = (df_raw['Col_5'] * df_raw['Col_7'])/1000000\n",
                "    #Xoá đi các cột khong sử dụng\n",
                "    df_clean = df_raw.drop(columns=['Col_1', 'Col_7'])\n",
                "    #Chuyển đổi định dạng dữ liệu dang datetime\n",
                "    df_clean['Col_0'] = pd.to_datetime(df_clean['Col_0'], format='%Y%m%d')\n",
                "    #Đổi tên cột cho đúng\n",
                "    df_clean.columns = ['date', 'open', 'high', 'low', 'close', 'volume', 'cap']\n",
                "    df_clean = df_clean.drop_duplicates(subset=['date'], keep='first')\n",
                "\n",
                "    return df_clean.reset_index(drop=True)\n",
                "\n",
                "def clean_index_data(df_raw):\n",
                "    #Lọc ra ra dữ liệu từ năm 2020\n",
                "    df_raw = df_raw[df_raw['Col_0'] > 20200400]\n",
                "    #Xoá đi các cột khong sử dụng\n",
                "    df_clean = df_raw.drop(columns=['Col_1'])\n",
                "    #Chuyển đổi định dạng dữ liệu dang datetime\n",
                "    df_clean['Col_0'] = pd.to_datetime(df_clean['Col_0'], format='%Y%m%d')\n",
                "    #Đổi tên cột cho đúng\n",
                "    df_clean.columns = ['date', 'open', 'high', 'low', 'close', 'volume', 'option']\n",
                "    df_clean = df_clean.drop_duplicates(subset=['date'], keep='first')\n",
                "    #Điều chỉnh lại giá trị các cột\n",
                "    df_clean['option'] = df_clean['option']/1000000000\n",
                "\t\t#Thêm cột phân loại index\n",
                "    df_clean.insert(0, 'type', 'spot')\n",
                "    \n",
                "    return df_clean.reset_index(drop=True)\n",
                "\n",
                "def clean_futures_data(df_raw):\n",
                "    #Lọc ra ra dữ liệu từ năm 2020\n",
                "    df_raw = df_raw[df_raw['Col_0'] > 20200400]\n",
                "    #Xoá đi các cột khong sử dụng\n",
                "    df_clean = df_raw.drop(columns=['Col_1'])\n",
                "    #Chuyển đổi định dạng dữ liệu dang datetime\n",
                "    df_clean['Col_0'] = pd.to_datetime(df_clean['Col_0'], format='%Y%m%d')\n",
                "    #Đổi tên cột cho đúng\n",
                "    df_clean.columns = ['date', 'open', 'high', 'low', 'close', 'volume', 'option']\n",
                "    df_clean = df_clean.drop_duplicates(subset=['date'], keep='first')\n",
                "\t\t#Thêm cột phân loại index\n",
                "    df_clean.insert(0, 'type', 'futures')\n",
                "    \n",
                "    return df_clean.reset_index(drop=True)\n",
                "\n",
                "def clean_itd_data(df_raw):\n",
                "    #Lọc ra đúng 1 ngày dữ liệu cuối cùng\n",
                "    df_raw = df_raw[df_raw['Col_0'] == max(df_raw['Col_0'])]\n",
                "    #Tạo cột date-time mới từ 2 cột date và time cũ\n",
                "    df_raw['date'] = df_raw['Col_0'].astype(int).astype(str) + ' ' + df_raw['Col_1'].astype(int).astype(str)\n",
                "    #Xoá đi các cột khong sử dụng\n",
                "    df_clean = df_raw.drop(columns=['Col_0', 'Col_1', 'Col_7'])\n",
                "    #Sắp xếp lại thứ tự các cột\n",
                "    df_clean = df_clean[['date'] + [f\"Col_{i}\" for i in range(2, len(df_clean.columns)+1)]]\n",
                "    # #Chuyển đổi định dạng dữ liệu dang datetime\n",
                "    df_clean['date'] = pd.to_datetime(df_clean['date'], format='%Y%m%d %H%M%S')\n",
                "    # #Đổi tên cột cho đúng\n",
                "    df_clean.columns = ['date', 'open', 'high', 'low', 'close', 'volume']\n",
                "    df_clean = df_clean.drop_duplicates(subset=['date'], keep='first')\n",
                "    #Làm tròn khung thời gian tới 5 phút\n",
                "    df_clean['date'] = df_clean['date'].dt.floor('1T')\n",
                "    df_clean = df_clean.set_index(\"date\").resample(\"1T\", closed='right', label='right').agg({    \n",
                "        \"open\": \"first\",  \n",
                "        \"high\": \"max\",  \n",
                "        \"low\": \"min\", \n",
                "        \"close\": \"last\",  \n",
                "        \"volume\": \"sum\"   \n",
                "    }).dropna().reset_index()\n",
                "\n",
                "    return df_clean.sort_values(by=\"date\", ascending=False).reset_index(drop=True)\n"
            ]
        },
        {
            "cell_type": "markdown",
            "metadata": {},
            "source": [
                "- Lấy và làm sạch các dữ liệu khác"
            ]
        },
        {
            "cell_type": "code",
            "execution_count": 13,
            "metadata": {},
            "outputs": [],
            "source": [
                "def clean_nntd_index_data(df_raw, ticker):\n",
                "    #Lọc ra ra dữ liệu từ năm 2020\n",
                "    df_raw = df_raw[df_raw['Col_0'] > 20200400]\n",
                "    #Xoá đi các cột khong sử dụng\n",
                "    df_clean = df_raw.drop(columns=['Col_1', 'Col_3', 'Col_4'])\n",
                "    #Chuyển đổi định dạng dữ liệu dang datetime\n",
                "    df_clean['Col_0'] = pd.to_datetime(df_clean['Col_0'], format='%Y%m%d')\n",
                "    #Đổi tên cột cho đúng\n",
                "    df_clean.columns = ['date', 'sell_volume', 'buy_volume', 'sell_value', 'buy_value']\n",
                "    df_clean = df_clean.drop_duplicates(subset=['date'], keep='first')\n",
                "    #Điều chỉnh lại giá trị các cột\n",
                "    df_clean['buy_volume'] = df_clean['buy_volume']\n",
                "    df_clean['sell_volume'] = -df_clean['sell_volume']\n",
                "    df_clean['buy_value'] = df_clean['buy_value']/1000000000\n",
                "    df_clean['sell_value'] = -df_clean['sell_value']/1000000000\n",
                "    df_clean['net_volume'] = df_clean['buy_volume'] + df_clean['sell_volume']\n",
                "    df_clean['net_value'] = df_clean['buy_value'] + df_clean['sell_value']\n",
                "\n",
                "    if ticker in ['VN30F1M_NN', 'VN30F1M_TD', 'VN30F1Q_NN', 'VN30F1Q_TD', 'VN30F2M_NN', 'VN30F2M_TD', 'VN30F2Q_NN', 'VN30F2Q_TD']:\n",
                "        df_clean['type'] = 'futures'\n",
                "    else:\n",
                "        df_clean['type'] = 'spot'\n",
                "\n",
                "    df_clean['ticker'] = ticker\n",
                "\n",
                "    return df_clean.reset_index(drop=True)\n",
                "\n",
                "def clean_nntd_stock_data(df_raw):\n",
                "    #Lọc ra ra dữ liệu từ năm 2020\n",
                "    df_raw = df_raw[df_raw['Col_0'] > 20200400]\n",
                "    #Xoá đi các cột khong sử dụng\n",
                "    df_clean = df_raw.drop(columns=['Col_1', 'Col_3', 'Col_4'])\n",
                "    #Chuyển đổi định dạng dữ liệu dang datetime\n",
                "    df_clean['Col_0'] = pd.to_datetime(df_clean['Col_0'], format='%Y%m%d')\n",
                "    #Đổi tên cột cho đúng\n",
                "    df_clean.columns = ['date', 'sell_volume', 'buy_volume', 'sell_value', 'buy_value']\n",
                "    df_clean = df_clean.drop_duplicates(subset=['date'], keep='first')\n",
                "    #Điều chỉnh lại giá trị các cột\n",
                "    df_clean['buy_volume'] = df_clean['buy_volume']\n",
                "    df_clean['sell_volume'] = -df_clean['sell_volume']\n",
                "    df_clean['buy_value'] = df_clean['buy_value']/1000000000\n",
                "    df_clean['sell_value'] = -df_clean['sell_value']/1000000000\n",
                "    df_clean['net_volume'] = df_clean['buy_volume'] + df_clean['sell_volume']\n",
                "    df_clean['net_value'] = df_clean['buy_value'] + df_clean['sell_value']\n",
                "    \n",
                "    return df_clean.reset_index(drop=True)\n",
                "\n",
                "def clean_other_data(df_raw, type):\n",
                "    #Lọc ra ra dữ liệu từ năm 2020\n",
                "    df_raw = df_raw[df_raw['Col_0'] > 20200400]\n",
                "    #Xoá đi các cột khong sử dụng\n",
                "    df_clean = df_raw.drop(columns=['Col_1'])\n",
                "    #Chuyển đổi định dạng dữ liệu dang datetime\n",
                "    df_clean['Col_0'] = pd.to_datetime(df_clean['Col_0'], format='%Y%m%d')\n",
                "    #Đổi tên cột cho đúng\n",
                "    df_clean.columns = ['date', 'open', 'high', 'low', 'close', 'volume', 'option']\n",
                "    df_clean = df_clean.drop_duplicates(subset=['date'], keep='first')\n",
                "\t\t#Thêm cột phân loại index\n",
                "    df_clean.insert(0, 'type', type)\n",
                "    \n",
                "    return df_clean.reset_index(drop=True)\n",
                "\n",
                "def get_yfinance_df(ticker, symbol, type_name, today):\n",
                "\ttemp_df = yf.download(symbol, start=\"2020-04-01\", end=today.strftime('%Y-%m-%d'), progress=False, auto_adjust=True).reset_index()\n",
                "\ttemp_df.columns = temp_df.columns.droplevel(1)\n",
                "\ttemp_df.columns.name = None\n",
                "\ttemp_df = temp_df.reset_index(drop=True)\n",
                "\ttemp_df.columns = ['date','open','high','low','close','volume']\n",
                "\ttemp_df['ticker'] = ticker\n",
                "\ttemp_df['type'] = type_name\n",
                "\treturn temp_df[['ticker','type','date','open','high','low','close','volume']]"
            ]
        },
        {
            "cell_type": "markdown",
            "metadata": {},
            "source": [
                "- Lấy danh sách và đường dẫn thư mục .dat"
            ]
        },
        {
            "cell_type": "code",
            "execution_count": 14,
            "metadata": {},
            "outputs": [],
            "source": [
                "def get_file_name_list(folder_path):\n",
                "    file_name_list = []\n",
                "    files = os.listdir(folder_path)\n",
                "    for file in files:\n",
                "        file_name_list.append(file[:-4])\n",
                "    return file_name_list\n",
                "\n",
                "def filter_market_file_name_list(file_name_list):\n",
                "    filtered_list = [item for item in file_name_list if not (item.endswith('_AC') or item.endswith('_CC'))]\n",
                "    return filtered_list\n",
                "\n",
                "eod_stock_folder_path = \"D:\\\\fireant_metakit\\\\AmiBroker\\\\EOD\\\\stock\"\n",
                "eod_index_folder_path = \"D:\\\\fireant_metakit\\\\AmiBroker\\\\EOD\\\\index\"\n",
                "eod_futures_folder_path = \"D:\\\\fireant_metakit\\\\AmiBroker\\\\EOD\\\\futures\"\n",
                "itd_stock_folder_path = \"D:\\\\fireant_metakit\\\\AmiBroker\\\\Intraday\\\\stock\"\n",
                "itd_index_folder_path = \"D:\\\\fireant_metakit\\\\AmiBroker\\\\Intraday\\\\index\"\n",
                "itd_futures_folder_path = \"D:\\\\fireant_metakit\\\\AmiBroker\\\\Intraday\\\\futures\"\n",
                "nn_stock_folder_path = \"D:\\\\fireant_metakit\\\\AmiBroker\\\\EOD\\\\foreign\"\n",
                "td_stock_folder_path = \"D:\\\\fireant_metakit\\\\AmiBroker\\\\EOD\\\\prop\"\n",
                "nntd_index_folder_path = \"D:\\\\fireant_metakit\\\\AmiBroker\\\\EOD\\\\market\"\n",
                "other_folder_path = \"D:\\\\fireant_metakit\\\\AmiBroker\\\\EOD\\\\other\""
            ]
        },
        {
            "cell_type": "markdown",
            "metadata": {},
            "source": [
                "##### Đọc và tạo các dữ liệu để tham chiếu"
            ]
        },
        {
            "cell_type": "markdown",
            "metadata": {},
            "source": [
                "- Các biến dùng cho việc maping tên và danh sách tên"
            ]
        },
        {
            "cell_type": "code",
            "execution_count": 15,
            "metadata": {},
            "outputs": [],
            "source": [
                "#Đọc name map để chuyển đỏi các tên thành dạng full\n",
                "name_map = get_mongo_df(ref_db, \"name_map\")\n",
                "name_map_dict = name_map.set_index('code')['full_name'].to_dict()\n",
                "\n",
                "order_map = get_mongo_df(ref_db, \"order_map\")\n",
                "order_map_dict = order_map.set_index('code')['order'].to_dict()\n",
                "\n",
                "group_map = get_mongo_df(ref_db, \"group_map\")\n",
                "group_map_dict = group_map.set_index('code')['group'].to_dict()\n",
                "\n",
                "#Tạo các danh sách nhóm trong mỗi cách chia cổ phiếu\n",
                "all_stock_key_list = [key for key, value in group_map_dict.items() if value == 'all']\n",
                "industry_name_list = [key for key, value in group_map_dict.items() if value in ['hsA', 'hsB', 'hsC', 'hsD']]\n",
                "industry_perform_list = [key for key, value in group_map_dict.items() if value == 'hs']\n",
                "marketcap_group_list = [key for key, value in group_map_dict.items() if value == 'cap']\n",
                "\n",
                "#Tạo danh danh key cho tổng tất cả các nhóm\n",
                "group_stock_key_list = all_stock_key_list + industry_name_list + industry_perform_list + marketcap_group_list"
            ]
        },
        {
            "cell_type": "markdown",
            "metadata": {},
            "source": [
                "- Các biến liên quan tới định nghĩa các quý"
            ]
        },
        {
            "cell_type": "code",
            "execution_count": 16,
            "metadata": {},
            "outputs": [],
            "source": [
                "#Tạo dict map thời gian và số lượng cổ phiếu\n",
                "quarter_map = get_mongo_df(ref_db, 'quarter_map')\n",
                "quarter_map_dict = quarter_map.set_index('quarter').apply(lambda row: row.tolist(), axis=1).to_dict()\n",
                "quarter_name_list = list(quarter_map_dict.keys())\n",
                "\n",
                "\n",
                "#Lấy ra list cổ phiếu của giai đoạn hiện tại\n",
                "quarter_stock_map = get_mongo_df(ref_db, 'quarter_stock_map')\n",
                "total_stock_list = get_mongo_df(ref_db, 'current_total_stock_list')['ticker'].tolist()\n",
                "current_quarter_stock_list = list(set(get_file_name_list(itd_stock_folder_path)) \n",
                "                                & set(quarter_stock_map[get_quarter('current_quarter')].dropna().tolist()))\n",
                "\n",
                "#Lấy ra khoảng thời gian tính toán cho quý này và quý trước\n",
                "calculate_time_span = [quarter_map_dict['q2_2020'][0], quarter_map_dict[get_quarter('current_quarter')][1]]\n",
                "current_quarter_span = [quarter_map_dict[get_quarter('current_quarter')][0], quarter_map_dict[get_quarter('current_quarter')][1]]\n",
                "previous_quarter_span = [quarter_map_dict[get_quarter('previous_quarter')][0], quarter_map_dict[get_quarter('previous_quarter')][1]]"
            ]
        },
        {
            "cell_type": "markdown",
            "metadata": {},
            "source": [
                "- Các biến định nghĩa thời gian"
            ]
        },
        {
            "cell_type": "code",
            "execution_count": 17,
            "metadata": {},
            "outputs": [],
            "source": [
                "#Tạo date_series cho thời gian tính toán\n",
                "date_series = get_mongo_df(ref_db, 'date_series')\n",
                "\n",
                "#Xác định ngày hiện tại\n",
                "today = date_series['date'].iloc[0]\n",
                "\n",
                "#Xác định thời gian hiện tại\n",
                "current_time = clean_itd_data(decode_data(itd_index_folder_path + '\\\\UPINDEX.dat'))['date'].iloc[0]\n",
                "\n",
                "#Khởi tạo time_series bao gồm tất cả khung thời gian của ngày hiện tại\n",
                "time_series_list = []\n",
                "time_series_list.extend(pd.date_range(start=f'{today} 09:00:00', end=f'{today} 11:30:00', freq='1T'))\n",
                "time_series_list.extend(pd.date_range(start=f'{today} 13:00:00', end=f'{today} 15:00:00', freq='1T'))\n",
                "time_series = pd.DataFrame(time_series_list).rename(columns={0:'date'})\n",
                "\n",
                "#Điều chỉnh lại time_series bỏ đi các hàng thời gian chưa có dữ liệu\n",
                "time_series = time_series.loc[time_series['date'].dt.time <= current_time.time()].sort_values('date', ascending=False).reset_index(drop=True)\n",
                "\n",
                "#Khởi tạo khung thời gian bắt đầu từ 9h00 để vẽ các biểu đồ\n",
                "itd_series = pd.DataFrame(time_series_list).rename(columns={0:'date'}).sort_values('date', ascending=False).reset_index(drop=True)\n",
                "\n",
                "#Đọc file phân bổ thanh khoản trong phiên va chuyển đổi thành ngày hôm nay\n",
                "itd_time_percent = get_mongo_df(ref_db, 'itd_time_percent')\n",
                "itd_time_percent['date'] = itd_time_percent['date'].apply(lambda x: current_time.replace(hour=x.hour, minute=x.minute, second=x.second))\n",
                "\n",
                "#Khởi tạo hệ số thời gian\n",
                "current_time_percent = itd_time_percent[itd_time_percent['date'] == current_time]['percent'].item()"
            ]
        },
        {
            "cell_type": "markdown",
            "metadata": {},
            "source": [
                "- Danh sách phân loại cổ phiếu"
            ]
        },
        {
            "cell_type": "code",
            "execution_count": 18,
            "metadata": {},
            "outputs": [],
            "source": [
                "#Lấy danh sách phân loại cổ phiếu\n",
                "stock_classification_df = get_mongo_df(ref_db, 'full_stock_classification')\n",
                "stock_classification_df = stock_classification_df[stock_classification_df['ticker'].isin(total_stock_list)].reset_index(drop=True)\n",
                "\n",
                "#Lấy phân loại của quý này từ dữ liệu lịch sử, các cổ phiếu không thuộc danh sách theo dõi quý này sẽ không được phân loại và nhận giá trị Nan\n",
                "current_quarter_classification_df = get_mongo_df(ref_db, 'current_quarter_classification')\n",
                "stock_classification_df['marketcap_group'] = stock_classification_df['ticker'].map(current_quarter_classification_df.set_index('ticker')['marketcap_group'])"
            ]
        },
        {
            "cell_type": "markdown",
            "metadata": {},
            "source": [
                "### Phần NNTD và Yfinance"
            ]
        },
        {
            "cell_type": "markdown",
            "metadata": {},
            "source": [
                "#### Định nghĩa các ticker_dict"
            ]
        },
        {
            "cell_type": "markdown",
            "metadata": {},
            "source": [
                "- Xử lý dữ liệu NN và TD"
            ]
        },
        {
            "cell_type": "code",
            "execution_count": 19,
            "metadata": {},
            "outputs": [],
            "source": [
                "index_td_nn_dict = {}\n",
                "for ticker in filter_market_file_name_list(get_file_name_list(nntd_index_folder_path)):\n",
                "    temp_file_path = nntd_index_folder_path + f'\\\\{ticker}.dat'\n",
                "    temp_df_raw = decode_data(temp_file_path)\n",
                "    temp_df_clean = clean_nntd_index_data(temp_df_raw, ticker)\n",
                "    index_td_nn_dict[ticker] = temp_df_clean\n",
                "\n",
                "stock_nn_dict = {}\n",
                "for ticker in total_stock_list:\n",
                "    if f'{ticker}_NN' not in get_file_name_list(nn_stock_folder_path):\n",
                "        pass\n",
                "    else:\n",
                "        temp_file_path = nn_stock_folder_path + f'\\\\{ticker}_NN.dat'\n",
                "        temp_df_raw = decode_data(temp_file_path)\n",
                "        temp_df_clean = clean_nntd_stock_data(temp_df_raw)\n",
                "        temp_df_clean.insert(0, 'ticker', f'{ticker}_NN')\n",
                "        stock_nn_dict[f'{ticker}_NN'] = temp_df_clean\n",
                "\n",
                "stock_td_dict = {}\n",
                "for ticker in total_stock_list:\n",
                "    if f'{ticker}_TD' not in get_file_name_list(td_stock_folder_path):\n",
                "        pass\n",
                "    else:\n",
                "        temp_file_path = td_stock_folder_path + f'\\\\{ticker}_TD.dat'\n",
                "        temp_df_raw = decode_data(temp_file_path)\n",
                "        temp_df_clean = clean_nntd_stock_data(temp_df_raw)\n",
                "        temp_df_clean.insert(0, 'ticker', f'{ticker}_TD')\n",
                "        stock_td_dict[f'{ticker}_TD'] = temp_df_clean"
            ]
        },
        {
            "cell_type": "code",
            "execution_count": 20,
            "metadata": {},
            "outputs": [],
            "source": [
                "#Bù dữ liệu vào những ngày index không có giao dịch\n",
                "for ticker, df in index_td_nn_dict.items():\n",
                "    temp_df = date_series.merge(df, on='date', how='left')\n",
                "    temp_df[['sell_volume','buy_volume','sell_value','buy_value','net_volume','net_value']] = temp_df[['sell_volume','buy_volume','sell_value','buy_value','net_volume','net_value']].fillna(0)\n",
                "    temp_df['ticker'] = temp_df['ticker'].fillna(ticker)\n",
                "    temp_df['type'] = temp_df['type'].bfill()\n",
                "    temp_df['type'] = temp_df['type'].ffill()\n",
                "    index_td_nn_dict[ticker] = temp_df.iloc[:20]\n",
                "\n",
                "#Bù dữ liệu vào những ngày cổ phiếu không có giao dịch\n",
                "for ticker, df in stock_td_dict.items():\n",
                "    temp_df = date_series.merge(df, on='date', how='left')\n",
                "    temp_df[['sell_volume','buy_volume','sell_value','buy_value','net_volume','net_value']] = temp_df[['sell_volume','buy_volume','sell_value','buy_value','net_volume','net_value']].fillna(0)\n",
                "    temp_df['ticker'] = temp_df['ticker'].fillna(ticker)\n",
                "    stock_td_dict[ticker] = temp_df.iloc[:20]\n",
                "\n",
                "#Bù dữ liệu vào những ngày cổ phiếu không có giao dịch\n",
                "for ticker, df in stock_nn_dict.items():\n",
                "    temp_df = date_series.merge(df, on='date', how='left')\n",
                "    temp_df[['sell_volume','buy_volume','sell_value','buy_value','net_volume','net_value']] = temp_df[['sell_volume','buy_volume','sell_value','buy_value','net_volume','net_value']].fillna(0)\n",
                "    temp_df['ticker'] = temp_df['ticker'].fillna(ticker)\n",
                "    stock_nn_dict[ticker] = temp_df.iloc[:20]"
            ]
        },
        {
            "cell_type": "markdown",
            "metadata": {},
            "source": [
                "- Các ticker quốc tế"
            ]
        },
        {
            "cell_type": "code",
            "execution_count": 21,
            "metadata": {},
            "outputs": [],
            "source": [
                "other_dict = {}\n",
                "\n",
                "#DXY và USDVND\n",
                "other_dict['DXY'] = get_yfinance_df('DXY', \"DX-Y.NYB\", 'forex', today)\n",
                "other_dict['USD_VND'] = get_yfinance_df('USD_VND', \"USDVND=X\", 'forex', today)\n",
                "\n",
                "#Bạc và đồng\n",
                "other_dict['SI=F'] = get_yfinance_df('SI=F', \"SI=F\", 'commodity', today)\n",
                "other_dict['HG=F'] = get_yfinance_df('HG=F', \"HG=F\", 'commodity', today)\n",
                "\n",
                "#Hai loại dâu mỏ và khí tự nhiên\n",
                "other_dict['BZ=F'] = get_yfinance_df('BZ=F', \"BZ=F\", 'commodity', today)\n",
                "other_dict['CL=F'] = get_yfinance_df('CL=F', \"CL=F\", 'commodity', today)\n",
                "other_dict['NG=F'] = get_yfinance_df('NG=F', \"NG=F\", 'commodity', today)\n",
                "\n",
                "#XAU USD\n",
                "for ticker in ['^XAU']:\n",
                "    temp_file_path = other_folder_path + f'\\\\{ticker}' + '\\\\USD.dat'\n",
                "    temp_df_raw = decode_data(temp_file_path)\n",
                "    temp_df_clean = clean_other_data(temp_df_raw, 'commodity')\n",
                "    temp_df_clean.insert(0, 'ticker', ticker)\n",
                "    other_dict[f'{ticker[1:]}_USD'] = temp_df_clean\n",
                "    \n",
                "for ticker in ['^SPX','^DJI','^IXIC','^NYA','^N225','^FTSE','^HIS','^SSEC','^STOXX50E','^SPX','^SPX']:\n",
                "    temp_file_path = other_folder_path + f'\\\\{ticker}.dat'\n",
                "    temp_df_raw = decode_data(temp_file_path)\n",
                "    temp_df_clean = clean_other_data(temp_df_raw, 'index')\n",
                "    temp_df_clean.insert(0, 'ticker', ticker)\n",
                "    other_dict[ticker] = temp_df_clean\n",
                "\n",
                "#Các cặp tiền forex\n",
                "for ticker in ['^AUD','^EUR','^GBP','^NZD']:\n",
                "    temp_file_path = other_folder_path + f'\\\\{ticker}' + '\\\\USD.dat'\n",
                "    temp_df_raw = decode_data(temp_file_path)\n",
                "    temp_df_clean = clean_other_data(temp_df_raw, 'forex')\n",
                "    temp_df_clean.insert(0, 'ticker', ticker)\n",
                "    other_dict[f'{ticker[1:]}_USD'] = temp_df_clean\n",
                "for ticker in get_file_name_list(f'{other_folder_path}\\\\^USD'):\n",
                "    temp_file_path = other_folder_path+ '\\\\^USD' + f'\\\\{ticker}.dat'\n",
                "    temp_df_raw = decode_data(temp_file_path)\n",
                "    temp_df_clean = clean_other_data(temp_df_raw, 'forex')\n",
                "    temp_df_clean.insert(0, 'ticker', ticker)\n",
                "    other_dict[f'USD_{ticker}'] = temp_df_clean\n",
                "    \n",
                "#Các cặp tiền crypto\n",
                "for ticker in ['^BTC','^BCH','^LTC','^XRP','^ETH']:\n",
                "    temp_file_path = other_folder_path + f'\\\\{ticker}' + '\\\\USD.dat'\n",
                "    temp_df_raw = decode_data(temp_file_path)\n",
                "    temp_df_clean = clean_other_data(temp_df_raw, 'crypto')\n",
                "    temp_df_clean.insert(0, 'ticker', ticker)\n",
                "    other_dict[f'{ticker[1:]}_USD'] = temp_df_clean\n",
                "    \n",
                "#Trái phiếu chính phủ\n",
                "for ticker in ['^USBY10Y', '^USBY1Y', '^USBY5Y', '^VNBY10Y', '^VNBY1Y', '^VNBY5Y']:\n",
                "    temp_file_path = other_folder_path + f'\\\\{ticker}.dat'\n",
                "    temp_df_raw = decode_data(temp_file_path)\n",
                "    temp_df_clean = clean_other_data(temp_df_raw, 'bond')\n",
                "    temp_df_clean.insert(0, 'ticker', ticker)\n",
                "    other_dict[f'{ticker[1:]}'] = temp_df_clean\n",
                "\n",
                "\n",
                "#Tạo bảng tất cả chỉ số\n",
                "other_ticker_df = pd.DataFrame()\n",
                "for ticker, df in other_dict.items():\n",
                "    other_ticker_df = pd.concat([other_ticker_df, df], axis=0).sort_values('date', ascending=False)"
            ]
        },
        {
            "cell_type": "markdown",
            "metadata": {},
            "source": [
                "#### Tạo các bảng tổng hợp"
            ]
        },
        {
            "cell_type": "code",
            "execution_count": 22,
            "metadata": {},
            "outputs": [],
            "source": [
                "#Tạo bảng cho index\n",
                "nntd_index_df = pd.DataFrame()\n",
                "for ticker, df in index_td_nn_dict.items():\n",
                "    nntd_index_df = pd.concat([nntd_index_df, df], axis=0)"
            ]
        },
        {
            "cell_type": "code",
            "execution_count": 23,
            "metadata": {},
            "outputs": [],
            "source": [
                "#Tạo bảng cho cổ phiếu\n",
                "nntd_stock_df = pd.DataFrame()\n",
                "for ticker, df in stock_nn_dict.items():\n",
                "    nntd_stock_df = pd.concat([nntd_stock_df, df], axis=0)\n",
                "for ticker, df in stock_td_dict.items():\n",
                "    nntd_stock_df = pd.concat([nntd_stock_df, df], axis=0)"
            ]
        },
        {
            "cell_type": "markdown",
            "metadata": {},
            "source": [
                "#### Lưu dữ liệu"
            ]
        },
        {
            "cell_type": "code",
            "execution_count": 24,
            "metadata": {},
            "outputs": [],
            "source": [
                "overwrite_mongo(stock_db[\"other_ticker\"], other_ticker_df)\n",
                "overwrite_mongo(stock_db[\"nntd_stock\"], nntd_stock_df)\n",
                "overwrite_mongo(stock_db[\"nntd_index\"], nntd_index_df)"
            ]
        },
        {
            "cell_type": "markdown",
            "metadata": {},
            "source": [
                "### Phần Data cho Vsuccess"
            ]
        },
        {
            "cell_type": "markdown",
            "metadata": {},
            "source": [
                "##### Đọc các dữ liệu cổ phiếu"
            ]
        },
        {
            "cell_type": "code",
            "execution_count": 25,
            "metadata": {},
            "outputs": [],
            "source": [
                "# #Đọc dữ liệu lịch sử cổ phiếu\n",
                "eod_stock_df = get_mongo_df(stock_db, \"eod_stock\", projection={\"_id\": 0, \"ticker\": 1, \"date\": 1, \"open\": 1, \"high\": 1, \"low\": 1, \"close\": 1, 'volume': 1, \"t0_score\": 1, \"t5_score\": 1})\n",
                "prev_stock_df = get_mongo_df(stock_db, \"history_stock\", find_query={\"date\": date_series.iloc[1].item()}, projection={\"_id\": 0, \"ticker\": 1, \"date\": 1, \"open\": 1, \"high\": 1, \"low\": 1, \"close\": 1, 'volume': 1, \"t0_score\": 1, \"t5_score\": 1})\n",
                "\n",
                "#Đọc dữ liệu lịch sử cổ phiếu\n",
                "eod_index_df = get_mongo_df(stock_db, \"eod_index\", projection={\"_id\": 0, \"ticker\": 1, \"date\": 1, \"open\": 1, \"high\": 1, \"low\": 1, \"close\": 1, 'volume': 1, 'option': 1, \"t0_score\": 1, \"t5_score\": 1})\n",
                "history_index_df = get_mongo_df(stock_db, \"history_index\", find_query={\"type\": \"spot\"}, projection={\"_id\": 0, \"ticker\": 1, \"date\": 1, \"open\": 1, \"high\": 1, \"low\": 1, \"close\": 1, 'volume': 1, 'option': 1, \"t0_score\": 1, \"t5_score\": 1})\n",
                "full_index_df = pd.concat([eod_index_df, history_index_df], axis=0).reset_index(drop=True)\n",
                "\n",
                "#Đọc dữ liệu lịch sử cổ phiếu\n",
                "itd_index_df = get_mongo_df(stock_db, \"itd_index\", projection={\"_id\": 0, \"ticker\": 1, \"date\": 1, \"open\": 1, \"high\": 1, \"low\": 1, \"close\": 1, 'volume': 1, \"t0_score\": 1, \"t5_score\": 1})\n",
                "#Đọc dữ liệu lịch sử cổ phiếu\n",
                "itd_stock_df = get_mongo_df(stock_db, \"itd_stock\", projection={\"_id\": 0, \"ticker\": 1, \"date\": 1, \"open\": 1, \"high\": 1, \"low\": 1, \"close\": 1, 'volume': 1, \"t0_score\": 1, \"t5_score\": 1})\n",
                "\n",
                "#Đọc dữ liệu điểm dòng tiền nhóm cổ phiếu\n",
                "eod_group_df = get_mongo_df(stock_db, \"eod_group\")\n",
                "\n",
                "#Đọc dữ liệu điểm dòng tiền nhóm cổ phiếu\n",
                "itd_group_df = get_mongo_df(stock_db, \"itd_group\")\n",
                "\n",
                "#Đọc dữ liệu giao dịch của other\n",
                "other_ticker_df = get_mongo_df(stock_db, \"other_ticker\")\n",
                "\n",
                "#Đọc dữ liệu nntd_index\n",
                "nntd_index_df = get_mongo_df(stock_db, \"nntd_index\")\n",
                "\n",
                "#Đọc dữ liệu nntd_stock\n",
                "nntd_stock_df = get_mongo_df(stock_db, \"nntd_stock\")\n",
                "\n",
                "#Đọc dữ liệu market_phase\n",
                "eod_market_phase = get_mongo_df(stock_db, \"eod_portfolio_progress\",  find_query={\"portfolio_name\": \"small_6stocks\"}, projection={\"_id\": 0, \"date\": 1, \"phase\": 1})\n",
                "history_market_phase = get_mongo_df(stock_db, \"history_portfolio_progress\",  find_query={\"portfolio_name\": \"small_6stocks\"}, projection={\"_id\": 0, \"date\": 1, \"phase\": 1})\n",
                "market_phase_df = pd.concat([eod_market_phase, history_market_phase], axis=0).reset_index(drop=True)\n",
                "market_phase_df.columns = ['date', 'market_phase_final']\n",
                "\n",
                "#Đọc dữ liệu ms lịch sử\n",
                "eod_ms_chart_df = get_mongo_df(stock_db, \"eod_ms_chart\")\n",
                "history_ms_chart_df = get_mongo_df(stock_db, \"history_ms_chart\")\n",
                "full_ms_chart_df = pd.concat([eod_ms_chart_df, history_ms_chart_df], axis=0).reset_index(drop=True)"
            ]
        },
        {
            "cell_type": "code",
            "execution_count": 26,
            "metadata": {},
            "outputs": [],
            "source": [
                "#Tạo lại eod_index_dict từ dữ liệu monggoDB\n",
                "eod_index_dict = {}\n",
                "for ticker in full_index_df['ticker'].unique():\n",
                "    temp_df = full_index_df[full_index_df['ticker'] == ticker].reset_index(drop=True)\n",
                "    eod_index_dict[ticker] = temp_df\n",
                "\n",
                "#Tạo lại itd_index_dict từ dữ liệu monggoDB\n",
                "itd_index_dict = {}\n",
                "for ticker in itd_index_df['ticker'].unique():\n",
                "    temp_df = itd_index_df[itd_index_df['ticker'] == ticker].reset_index(drop=True)\n",
                "    itd_index_dict[ticker] = temp_df\n",
                "\n",
                "#Tạo lại itd_stock_dict từ dữ liệu monggoDB\n",
                "itd_stock_dict = {}\n",
                "for ticker in itd_stock_df['ticker'].unique():\n",
                "    temp_df = itd_stock_df[itd_stock_df['ticker'] == ticker].reset_index(drop=True)\n",
                "    itd_stock_dict[ticker] = temp_df\n",
                "\n",
                "#Tạo lại itd_group_dict từ dữ liệu monggoDB\n",
                "itd_group_dict = {}\n",
                "for ticker in itd_group_df['ticker'].unique():\n",
                "    temp_df = itd_group_df[itd_group_df['ticker'] == ticker].reset_index(drop=True)\n",
                "    itd_group_dict[ticker] = temp_df\n",
                "\n",
                "#Tạo lại other_dict từ dữ liệu monggoDB\n",
                "other_dict = {}\n",
                "for ticker in other_ticker_df['ticker'].unique():\n",
                "    temp_df = other_ticker_df[other_ticker_df['ticker'] == ticker].reset_index(drop=True)\n",
                "    other_dict[ticker] = temp_df"
            ]
        },
        {
            "cell_type": "markdown",
            "metadata": {},
            "source": [
                "##### Chỉ số thị trường"
            ]
        },
        {
            "cell_type": "code",
            "execution_count": 27,
            "metadata": {},
            "outputs": [],
            "source": [
                "world_index_history = date_series.copy()\n",
                "for ticker, df in other_dict.items():\n",
                "    if ticker in ['^BTC', '^DJI', '^XAU', 'CL=F', 'DXY']:\n",
                "        world_index_history[f'{ticker}_value'] = df['close']\n",
                "        world_index_history[f'{ticker}_volume'] = df['volume']\n",
                "for ticker, df in eod_index_dict.items():\n",
                "    if ticker == 'VNINDEX':\n",
                "        world_index_history[f'{ticker}_value'] = df['close']\n",
                "        world_index_history[f'{ticker}_volume'] = df['volume']\n",
                "\n",
                "world_index_history = world_index_history.iloc[:60].sort_values('date')"
            ]
        },
        {
            "cell_type": "code",
            "execution_count": 28,
            "metadata": {},
            "outputs": [],
            "source": [
                "world_index_volatility = pd.DataFrame()\n",
                "for ticker, df in other_dict.items():\n",
                "    if ticker in ['^BTC', '^DJI', '^XAU', 'CL=F', 'DXY']:\n",
                "        temp_df = df.copy()\n",
                "        temp_df['value_traded'] = 0\n",
                "        temp_df['value_change'] = temp_df['close'][::-1].diff()[::-1].fillna(0)\n",
                "        temp_df['pct_change'] = temp_df['close'][::-1].pct_change()[::-1].fillna(0)\n",
                "        temp_df['1w_change'] = temp_df['close'][::-1].rolling(window=5, min_periods=1).apply(lambda x: (x.iloc[-1] - x.iloc[0])/x.iloc[-1])[::-1]\n",
                "        temp_df['1m_change'] = temp_df['close'][::-1].rolling(window=20, min_periods=1).apply(lambda x: (x.iloc[-1] - x.iloc[0])/x.iloc[-1])[::-1]\n",
                "        temp_df['3m_change'] = temp_df['close'][::-1].rolling(window=60, min_periods=1).apply(lambda x: (x.iloc[-1] - x.iloc[0])/x.iloc[-1])[::-1]\n",
                "        temp_df = temp_df.iloc[[0]][['ticker','open','high','low','close','volume','value_traded','value_change','pct_change','1w_change','1m_change','3m_change']]\n",
                "\n",
                "        world_index_volatility = pd.concat([world_index_volatility, temp_df], axis=0)\n",
                "\n",
                "for ticker, df in eod_index_dict.items():\n",
                "    if ticker == 'VNINDEX':\n",
                "        temp_df = df.copy()\n",
                "        temp_df['value_traded'] = temp_df['option']\n",
                "        temp_df['value_change'] = temp_df['close'][::-1].diff()[::-1].fillna(0)\n",
                "        temp_df['pct_change'] = temp_df['close'][::-1].pct_change()[::-1].fillna(0)\n",
                "        temp_df['1w_change'] = temp_df['close'][::-1].rolling(window=5, min_periods=1).apply(lambda x: (x.iloc[-1] - x.iloc[0])/x.iloc[-1])[::-1]\n",
                "        temp_df['1m_change'] = temp_df['close'][::-1].rolling(window=20, min_periods=1).apply(lambda x: (x.iloc[-1] - x.iloc[0])/x.iloc[-1])[::-1]\n",
                "        temp_df['3m_change'] = temp_df['close'][::-1].rolling(window=60, min_periods=1).apply(lambda x: (x.iloc[-1] - x.iloc[0])/x.iloc[-1])[::-1]\n",
                "        temp_df = temp_df.iloc[[0]][['ticker','open','high','low','close','volume','value_traded','value_change','pct_change','1w_change','1m_change','3m_change']]\n",
                "\n",
                "        world_index_volatility = pd.concat([world_index_volatility, temp_df], axis=0)"
            ]
        },
        {
            "cell_type": "markdown",
            "metadata": {},
            "source": [
                "##### Khối ngoại tự doanh"
            ]
        },
        {
            "cell_type": "code",
            "execution_count": 29,
            "metadata": {},
            "outputs": [],
            "source": [
                "#Tạo bảng giá trị giao dịch ngày hiện tại\n",
                "nn_index_df = nntd_index_df.copy()\n",
                "nn_index_df = nn_index_df[(nn_index_df['date'] == today) & nn_index_df['ticker'].isin(['VNINDEX_NN', 'HNXINDEX_NN', 'UPINDEX_NN'])]\n",
                "nn_index_df = nn_index_df.drop(columns=['date','type','ticker'])\n",
                "\n",
                "td_index_df = nntd_index_df.copy()\n",
                "td_index_df = td_index_df[(td_index_df['date'] == date_series['date'].iloc[1]) & td_index_df['ticker'].isin(['VNINDEX_TD', 'HNXINDEX_TD', 'UPINDEX_TD'])]\n",
                "td_index_df = td_index_df.drop(columns=['date','type','ticker'])\n",
                "\n",
                "nntd_value = pd.DataFrame({'NN': nn_index_df.sum(axis=0),'TD': td_index_df.sum(axis=0)}).reset_index()"
            ]
        },
        {
            "cell_type": "code",
            "execution_count": 30,
            "metadata": {},
            "outputs": [],
            "source": [
                "#Bảng lịch sử giao dịch 10 phiên\n",
                "nn_history_df = nntd_index_df.copy()\n",
                "nn_history_df = nn_history_df[nn_history_df['ticker'].isin(['VNINDEX_NN', 'HNXINDEX_NN', 'UPINDEX_NN'])]\n",
                "nn_history_df = nn_history_df.groupby('date')['net_value'].sum()\n",
                "\n",
                "td_history_df = nntd_index_df.copy()\n",
                "td_history_df = td_history_df[td_history_df['ticker'].isin(['VNINDEX_TD', 'HNXINDEX_TD', 'UPINDEX_TD'])]\n",
                "td_history_df = td_history_df.groupby('date')['net_value'].sum()\n",
                "\n",
                "#Ghép bảng và chỉ lấy 10 ngày gần nhất\n",
                "nntd_history = pd.concat([nn_history_df, td_history_df], axis=1).reset_index().tail(10)\n",
                "nntd_history.columns = ['date','NN','TD']"
            ]
        },
        {
            "cell_type": "code",
            "execution_count": 31,
            "metadata": {},
            "outputs": [],
            "source": [
                "#Bảng top cổ phiếu giao dịch phiên hiện tại\n",
                "\n",
                "#Tính toán cho nước ngoài\n",
                "nn_stock_df = nntd_stock_df.copy()\n",
                "nn_stock_df = nn_stock_df[(nn_stock_df['date'] == today) & nn_stock_df['ticker'].str.endswith('_NN')]\n",
                "nn_stock_df['ticker'] = nn_stock_df['ticker'].apply(lambda x: x[:3])\n",
                "\n",
                "top_nn_stock = nn_stock_df.sort_values('net_value', ascending=False).iloc[:5].reset_index(drop=True)\n",
                "top_nn_stock_string = \", \".join([f\"{r['ticker']} ({r['net_value']:.2f} tỷ)\" for _, r in top_nn_stock.head(5).iterrows()])\n",
                "\n",
                "bot_nn_stock = nn_stock_df.sort_values('net_value', ascending=True).iloc[:5].reset_index(drop=True)\n",
                "bot_nn_stock_string = \", \".join([f\"{r['ticker']} ({r['net_value']:.2f} tỷ)\" for _, r in bot_nn_stock.head(5).iterrows()])\n",
                "\n",
                "#Tính toán cho tự doanh\n",
                "td_stock_df = nntd_stock_df.copy()\n",
                "td_stock_df = td_stock_df[(td_stock_df['date'] == date_series['date'].iloc[1]) & td_stock_df['ticker'].str.endswith('_TD')]\n",
                "td_stock_df['ticker'] = td_stock_df['ticker'].apply(lambda x: x[:3])\n",
                "\n",
                "top_td_stock = td_stock_df.sort_values('net_value', ascending=False).iloc[:5].reset_index(drop=True)\n",
                "top_td_stock_string = \", \".join([f\"{r['ticker']} ({r['net_value']:.2f} tỷ)\" for _, r in top_td_stock.head(5).iterrows()])\n",
                "\n",
                "bot_td_stock = td_stock_df.sort_values('net_value', ascending=True).iloc[:5].reset_index(drop=True)\n",
                "bot_td_stock_string = \", \".join([f\"{r['ticker']} ({r['net_value']:.2f} tỷ)\" for _, r in bot_td_stock.head(5).iterrows()])\n",
                "\n",
                "nntd_top_stock = pd.DataFrame({\"NN\": [top_nn_stock_string, bot_nn_stock_string], \"TD\": [top_td_stock_string, bot_td_stock_string]}, index=[\"buy\", \"sell\"]).reset_index()"
            ]
        },
        {
            "cell_type": "markdown",
            "metadata": {},
            "source": [
                "##### Trạng thái thị trường"
            ]
        },
        {
            "cell_type": "code",
            "execution_count": 32,
            "metadata": {},
            "outputs": [],
            "source": [
                "def add_count_columns(df):\n",
                "    # Lấy danh sách các cột ban đầu để tính toán, tránh đếm cả các cột mới tạo\n",
                "    original_columns = df.columns.tolist()\n",
                "    \n",
                "    df['positive_count'] = df[original_columns].gt(0).sum(axis=1) + df[original_columns].eq(0).sum(axis=1)\n",
                "    df['negative_count'] = df[original_columns].lt(0).sum(axis=1)\n",
                "    df['total_count']    = df[original_columns].count(axis=1)\n",
                "    \n",
                "    return df\n",
                "\n",
                "itd_market_sentiment = itd_series.copy().set_index('date')\n",
                "for ticker, df in itd_stock_dict.items():\n",
                "    if ticker in current_quarter_stock_list:\n",
                "        itd_market_sentiment[ticker] = df.set_index('date')['t0_score']\n",
                "\n",
                "itd_market_sentiment = add_count_columns(itd_market_sentiment)\n",
                "itd_market_sentiment['sentiment'] = (itd_market_sentiment['positive_count'] / itd_market_sentiment['total_count'])*100\n",
                "\n",
                "itd_market_state = itd_index_dict['VNINDEX'].copy().set_index('date')\n",
                "itd_market_state = itd_market_state.drop(columns=['ticker'])\n",
                "itd_market_state['vol_ratio'] = itd_group_dict['all'].set_index('date')['vol_ratio']\n",
                "itd_market_state['sentiment'] = itd_market_sentiment['sentiment']\n",
                "\n",
                "itd_market_state = itd_market_state.sort_index().reset_index().dropna()\n",
                "itd_market_state['last_vol_ratio'] = itd_market_state['vol_ratio'].iloc[-1]\n",
                "itd_market_state['quote_vol_ratio'] = itd_market_state['last_vol_ratio'].apply(lambda x: 'Rất thấp' if x < 0.5 else (\n",
                "                                                                            'Thấp' if (x >= 0.5) & (x < 0.8) else (\n",
                "                                                                            'Trung bình' if (x >= 0.8) & (x < 1.2) else (\n",
                "                                                                            'Cao' if (x >= 1.2) & (x < 1.5) else 'Rất cao'))))\n",
                "\n",
                "itd_market_state['last_sentiment'] = itd_market_state['sentiment'].iloc[-1]\n",
                "itd_market_state['quote_sentiment'] = itd_market_state['last_sentiment'].apply(lambda x: 'Sợ hãi' if x < 20 else\n",
                "                                                                ('Tiêu cực' if (x >= 20) & (x < 40) else\n",
                "                                                                ('Trung lập' if (x >= 40) & (x < 60) else\n",
                "                                                                ('Tích cực' if (x >= 60) & (x < 80) else 'Hưng phấn'))))"
            ]
        },
        {
            "cell_type": "markdown",
            "metadata": {},
            "source": [
                "##### Dòng tiền thị trường"
            ]
        },
        {
            "cell_type": "code",
            "execution_count": 33,
            "metadata": {},
            "outputs": [],
            "source": [
                "# Tạo bảng để vẽ biểu đồ tròn\n",
                "market_score = itd_market_sentiment.dropna()[['positive_count','negative_count']]\n",
                "market_score.columns = ['Dòng tiền dương', 'Dòng tiền âm']\n",
                "market_score = market_score.iloc[[0]].reset_index(drop=True)\n",
                "market_score = market_score.transpose().reset_index()\n",
                "market_score.columns = ['index','value']\n",
                "\n",
                "temp_industry_name_df = eod_group_df[eod_group_df['ticker'].isin(industry_name_list)].sort_values('t0_score', ascending=False)\n",
                "temp_industry_name_df = temp_industry_name_df[['ticker', 't0_score']]\n",
                "temp_industry_name_df['ticker'] = temp_industry_name_df['ticker'].map(name_map_dict)\n",
                "temp_industry_name_df.columns = ['index','value']\n",
                "\n",
                "temp_industry_perform_df = eod_group_df[eod_group_df['ticker'].isin(industry_perform_list)].sort_values('t0_score', ascending=False)\n",
                "temp_industry_perform_df = temp_industry_perform_df[['ticker', 't0_score']]\n",
                "temp_industry_perform_df['ticker'] = temp_industry_perform_df['ticker'].map(name_map_dict)\n",
                "temp_industry_perform_df.columns = ['index','value']\n",
                "\n",
                "temp_marketcap_group_df = eod_group_df[eod_group_df['ticker'].isin(marketcap_group_list)].sort_values('t0_score', ascending=False)\n",
                "temp_marketcap_group_df = temp_marketcap_group_df[['ticker', 't0_score']]\n",
                "temp_marketcap_group_df['ticker'] = temp_marketcap_group_df['ticker'].map(name_map_dict)\n",
                "temp_marketcap_group_df.columns = ['index','value']\n",
                "\n",
                "market_score = pd.concat([market_score, temp_industry_name_df, temp_industry_perform_df, temp_marketcap_group_df], axis=0)"
            ]
        },
        {
            "cell_type": "code",
            "execution_count": 34,
            "metadata": {},
            "outputs": [],
            "source": [
                "def calculate_pct_change(eod_stock_df, prev_stock_df):\n",
                "    eod_df = eod_stock_df.copy().set_index('ticker')\n",
                "    prev_df = prev_stock_df.copy().set_index('ticker')\n",
                "    eod_df['pct_change'] = (eod_df['close'] - prev_df['close'])/prev_df['close']\n",
                "    eod_df = eod_df.reset_index()\n",
                "\n",
                "    return eod_df[['ticker','pct_change']]\n",
                "\n",
                "market_stock_df = eod_stock_df.merge(calculate_pct_change(eod_stock_df, prev_stock_df), on='ticker', how='left')\n",
                "temp_top_stock = market_stock_df.sort_values('t0_score', ascending=False).head(10)\n",
                "temp_top_stock['type'] = 'Tích cực'\n",
                "temp_bot_stock = market_stock_df.sort_values('t0_score', ascending=True).head(10)\n",
                "temp_bot_stock['pct_change'] = temp_bot_stock['pct_change'].abs()\n",
                "temp_bot_stock['type'] = 'Tiêu cực'\n",
                "\n",
                "market_top_stock = pd.concat([temp_top_stock, temp_bot_stock], axis=0)\n",
                "market_top_stock = market_top_stock[['type', 'ticker', 'pct_change']]"
            ]
        },
        {
            "cell_type": "markdown",
            "metadata": {},
            "source": [
                "##### Giai đoạn thị trường"
            ]
        },
        {
            "cell_type": "code",
            "execution_count": 35,
            "metadata": {},
            "outputs": [],
            "source": [
                "temp_ms_df = full_ms_chart_df[full_ms_chart_df['ticker']=='all']\n",
                "temp_ms_df = temp_ms_df[['date','trend_5p','trend_20p','trend_60p','trend_120p','trend_240p','trend_480p']].set_index('date')\n",
                "temp_vnidex_df = eod_index_dict['VNINDEX'][['date','close']].set_index('date')\n",
                "temp_phase_df = market_phase_df[['date', 'market_phase_final']].set_index('date')\n",
                "temp_phase_df.columns = ['market_phase']\n",
                "\n",
                "market_phase_history = pd.concat([temp_vnidex_df, temp_phase_df, temp_ms_df], axis = 1)\n",
                "market_phase_history = market_phase_history.iloc[:80].sort_index().reset_index()"
            ]
        },
        {
            "cell_type": "code",
            "execution_count": 36,
            "metadata": {},
            "outputs": [],
            "source": [
                "market_phase_quote = market_phase_history.iloc[[-1]]\n",
                "market_phase_quote['phase_name'] = market_phase_quote['market_phase'].apply(lambda x: 'An toàn' if x == 1 else \"Rủi ro\")"
            ]
        },
        {
            "cell_type": "markdown",
            "metadata": {},
            "source": [
                "#### Lưu vào MSSQL"
            ]
        },
        {
            "cell_type": "code",
            "execution_count": 37,
            "metadata": {},
            "outputs": [
                {
                    "data": {
                        "text/plain": [
                            "200"
                        ]
                    },
                    "execution_count": 37,
                    "metadata": {},
                    "output_type": "execute_result"
                }
            ],
            "source": [
                "update_time = pd.DataFrame({'today': [f\"Ngày {time_series['date'].max().strftime('%d/%m/%Y %H:%M')}\"]})\n",
                "\n",
                "#Các bảng cho báo cáo hàng ngày\n",
                "update_time.to_sql('update_time', vsuccess_engine, if_exists='replace', index=False)\n",
                "world_index_history.to_sql('world_index_history', vsuccess_engine, if_exists='replace', index=False)\n",
                "world_index_volatility.to_sql('world_index_volatility', vsuccess_engine, if_exists='replace', index=False)\n",
                "nntd_value.to_sql('nntd_value', vsuccess_engine, if_exists='replace', index=False)\n",
                "nntd_history.to_sql('nntd_history', vsuccess_engine, if_exists='replace', index=False)\n",
                "nntd_top_stock.to_sql('nntd_top_stock', vsuccess_engine, if_exists='replace', index=False)\n",
                "itd_market_state.to_sql('itd_market_state', vsuccess_engine, if_exists='replace', index=False)\n",
                "market_score.to_sql('market_score', vsuccess_engine, if_exists='replace', index=False)\n",
                "market_top_stock.to_sql('market_top_stock', vsuccess_engine, if_exists='replace', index=False)\n",
                "market_phase_history.to_sql('market_phase_history', vsuccess_engine, if_exists='replace', index=False)\n",
                "market_phase_quote.to_sql('market_phase_quote', vsuccess_engine, if_exists='replace', index=False)\n",
                "market_stock_df.to_sql('market_stock_df', vsuccess_engine, if_exists='replace', index=False)"
            ]
        },
        {
            "cell_type": "markdown",
            "metadata": {},
            "source": [
                "### Phần Data cho Origin Portfolio"
            ]
        },
        {
            "cell_type": "markdown",
            "metadata": {},
            "source": [
                "#### Đọc dữ liệu từ Mongo"
            ]
        },
        {
            "cell_type": "code",
            "execution_count": 38,
            "metadata": {},
            "outputs": [],
            "source": [
                "history_portfolio_progress_df = get_mongo_df(stock_db, \"history_portfolio_progress\")\n",
                "eod_portfolio_progress_df = get_mongo_df(stock_db, \"eod_portfolio_progress\")\n",
                "portfolio_progress_df = pd.concat([eod_portfolio_progress_df, history_portfolio_progress_df], axis=0).reset_index(drop=True)\n",
                "portfolio_progress_df['portfolio_name'] = portfolio_progress_df['portfolio_name'].map(name_map_dict)\n",
                "\n",
                "eod_portfolio_order_df = get_mongo_df(stock_db, \"eod_portfolio_order\")\n",
                "history_portfolio_order_df = get_mongo_df(stock_db, \"history_portfolio_order\")\n",
                "portfolio_order_df = pd.concat([eod_portfolio_order_df, history_portfolio_order_df], axis=0).dropna().reset_index(drop=True)\n",
                "portfolio_order_df['portfolio_name'] = portfolio_order_df['portfolio_name'].map(name_map_dict)\n",
                "portfolio_order_df['type'] = portfolio_order_df['type'].apply(lambda x: 'Mua' if x == 'buy' else 'Bán')\n",
                "\n",
                "portfolio_trading_df = get_mongo_df(stock_db, \"history_portfolio_trading\")\n",
                "portfolio_trading_df['portfolio_name'] = portfolio_trading_df['portfolio_name'].map(name_map_dict)\n",
                "\n",
                "eod_portfolio_holding_df = get_mongo_df(stock_db, \"eod_portfolio_holding\")\n",
                "history_portfolio_holding_df = get_mongo_df(stock_db, \"history_portfolio_holding\")\n",
                "portfolio_holding_df = pd.concat([eod_portfolio_holding_df, history_portfolio_holding_df], axis=0).dropna().reset_index(drop=True)\n",
                "portfolio_holding_df['portfolio_name'] = portfolio_holding_df['portfolio_name'].map(name_map_dict)\n",
                "portfolio_holding_df['industry_name'] = portfolio_holding_df['industry_name'].map(name_map_dict)\n",
                "portfolio_holding_df['industry_perform'] = portfolio_holding_df['industry_perform'].map(name_map_dict)\n",
                "\n",
                "eod_portfolio_signal_df = get_mongo_df(stock_db, \"eod_portfolio_signal\")\n",
                "history_portfolio_signal_df = get_mongo_df(stock_db, \"history_portfolio_signal\")\n",
                "portfolio_signal_df = pd.concat([eod_portfolio_signal_df, history_portfolio_signal_df], axis=0).dropna().reset_index(drop=True)\n",
                "portfolio_signal_df['portfolio_name'] = portfolio_signal_df['portfolio_name'].map(name_map_dict)\n",
                "\n",
                "eod_portfolio_filtered_df = get_mongo_df(stock_db, \"eod_portfolio_filtered\")\n",
                "history_portfolio_filtered_df = get_mongo_df(stock_db, \"history_portfolio_filtered\", find_query={\"date\": {\"$in\": date_series['date'].iloc[:100].tolist()}})\n",
                "portfolio_filtered_df = pd.concat([eod_portfolio_filtered_df, history_portfolio_filtered_df], axis=0).dropna().reset_index(drop=True)\n",
                "portfolio_filtered_df['portfolio_name'] = portfolio_filtered_df['portfolio_name'].map(name_map_dict)\n",
                "portfolio_filtered_df['industry_name'] = portfolio_filtered_df['industry_name'].map(name_map_dict)"
            ]
        },
        {
            "cell_type": "code",
            "execution_count": 39,
            "metadata": {},
            "outputs": [],
            "source": [
                "range_order_dict = {'3M': 1, '6M': 2, '1Y': 3, '2Y': 4, 'ALL': 5}\n",
                "portfolio_order_dict = {'SMALL10': 1, 'SMALL6': 2, 'MEDIUM6': 3, 'LARGE6': 4}\n",
                "\n",
                "# Chia lại bảng giai đoạn thị trường thành các khung thời gian để tính cum return\n",
                "portfolio_progress_refined = pd.DataFrame()\n",
                "for portfolio_name in portfolio_progress_df['portfolio_name'].unique():\n",
                "    for time_range, number in {'3M': 60, '6M': 120, '1Y': 240, '2Y': 480, 'ALL': -1}.items():\n",
                "        temp_df = portfolio_progress_df[portfolio_progress_df['portfolio_name'] == portfolio_name].sort_values('date', ascending=False).reset_index(drop=True)\n",
                "        temp_df['reverse_phase'] = temp_df['phase'].apply(lambda x: 1 if x == 0 else 0)\n",
                "\n",
                "        if time_range == 'ALL': pass\n",
                "        else: temp_df = temp_df.iloc[:number]\n",
                "\n",
                "        temp_df.at[len(temp_df)-1, 'raw_return'] = 0\n",
                "        temp_df['raw_cum_return'] = temp_df['raw_return'][::-1].cumsum()[::-1]\n",
                "\n",
                "        temp_df.at[len(temp_df)-1, 'index_return'] = 0\n",
                "        temp_df['index_cum_return'] = temp_df['index_return'][::-1].cumsum()[::-1]\n",
                "\n",
                "        temp_df.at[len(temp_df)-1, 'portfolio_return'] = 0\n",
                "        temp_df['portfolio_cum_return'] = temp_df['portfolio_return'][::-1].cumsum()[::-1]\n",
                "\n",
                "        temp_df['range'] = time_range\n",
                "        temp_df['range_order'] = temp_df['range'].map(range_order_dict)\n",
                "        temp_df['portfolio_order'] = temp_df['portfolio_name'].map(portfolio_order_dict)\n",
                "\n",
                "        temp_df['phase_state'] = temp_df['phase'].apply(lambda x: 'An toàn' if x == 1 else 'Rủi ro')\n",
                "\n",
                "        portfolio_progress_refined = pd.concat([portfolio_progress_refined, temp_df], axis=0)\n",
                "\n",
                "portfolio_progress_refined['raw_list'] = portfolio_progress_refined['raw_list'].apply(lambda x: ', '.join(x))\n",
                "portfolio_progress_refined['filtered_list'] = portfolio_progress_refined['filtered_list'].apply(lambda x: ', '.join(x))\n",
                "portfolio_progress_refined['holding_list'] = portfolio_progress_refined['holding_list'].apply(lambda x: ', '.join(x))\n",
                "portfolio_progress_refined['buy_signal'] = portfolio_progress_refined['buy_signal'].apply(lambda x: ', '.join(x))\n",
                "portfolio_progress_refined['sell_signal'] = portfolio_progress_refined['sell_signal'].apply(lambda x: ', '.join(x))"
            ]
        },
        {
            "cell_type": "code",
            "execution_count": 40,
            "metadata": {},
            "outputs": [
                {
                    "data": {
                        "text/plain": [
                            "34"
                        ]
                    },
                    "execution_count": 40,
                    "metadata": {},
                    "output_type": "execute_result"
                }
            ],
            "source": [
                "portfolio_name_df = pd.DataFrame({'portfolio_name': portfolio_progress_refined['portfolio_name'].unique()})\n",
                "portfolio_name_df['portfolio_order'] = portfolio_name_df['portfolio_name'].map(portfolio_order_dict)\n",
                "\n",
                "#Các bảng cho báo cáo PowerBI\n",
                "date_series.to_sql('date_series', vsuccess_engine, if_exists='replace', index=False)\n",
                "portfolio_name_df.to_sql('portfolio_name', vsuccess_engine, if_exists='replace', index=False)\n",
                "portfolio_progress_refined.to_sql('portfolio_progress', vsuccess_engine, if_exists='replace', index=False)\n",
                "portfolio_order_df.to_sql('portfolio_order', vsuccess_engine, if_exists='replace', index=False)\n",
                "portfolio_trading_df.to_sql('portfolio_trading', vsuccess_engine, if_exists='replace', index=False)\n",
                "portfolio_holding_df.to_sql('portfolio_holding', vsuccess_engine, if_exists='replace', index=False)\n",
                "portfolio_signal_df.to_sql('portfolio_signal', vsuccess_engine, if_exists='replace', index=False)\n",
                "portfolio_filtered_df.to_sql('portfolio_filtered', vsuccess_engine, if_exists='replace', index=False)"
            ]
        },
        {
            "cell_type": "markdown",
            "metadata": {},
            "source": [
                "### Phần Data cho Custom Portfolio"
            ]
        },
        {
            "cell_type": "code",
            "execution_count": 51,
            "metadata": {},
            "outputs": [],
            "source": [
                "portfolio_progress_df = get_mongo_df(stock_db, \"custom_portfolio_progress\")\n",
                "\n",
                "portfolio_order_df = get_mongo_df(stock_db, \"custom_portfolio_order\")\n",
                "portfolio_order_df['type'] = portfolio_order_df['type'].apply(lambda x: 'Mua' if x == 'buy' else 'Bán')\n",
                "\n",
                "portfolio_trading_df = get_mongo_df(stock_db, \"custom_portfolio_trading\")\n",
                "\n",
                "portfolio_holding_df = get_mongo_df(stock_db, \"custom_portfolio_holding\")\n",
                "portfolio_holding_df['industry_name'] = portfolio_holding_df['industry_name'].map(name_map_dict)\n",
                "portfolio_holding_df['industry_perform'] = portfolio_holding_df['industry_perform'].map(name_map_dict)\n",
                "\n",
                "portfolio_signal_df = get_mongo_df(stock_db, \"custom_portfolio_signal\")\n",
                "\n",
                "portfolio_filtered_df = get_mongo_df(stock_db, \"custom_portfolio_filtered\", find_query={\"date\": {\"$in\": date_series['date'].iloc[:100].tolist()}})\n",
                "portfolio_filtered_df['industry_name'] = portfolio_filtered_df['industry_name'].map(name_map_dict)"
            ]
        },
        {
            "cell_type": "code",
            "execution_count": null,
            "metadata": {},
            "outputs": [],
            "source": [
                "range_order_dict = {'3M': 1, '6M': 2, '1Y': 3, '2Y': 4, 'ALL': 5}\n",
                "\n",
                "# Chia lại bảng giai đoạn thị trường thành các khung thời gian để tính cum return\n",
                "portfolio_progress_refined = pd.DataFrame()\n",
                "for portfolio_name in portfolio_progress_df['portfolio_name'].unique():\n",
                "    for time_range, number in {'3M': 60, '6M': 120, '1Y': 240, '2Y': 480, 'ALL': -1}.items():\n",
                "        temp_df = portfolio_progress_df[portfolio_progress_df['portfolio_name'] == portfolio_name].sort_values('date', ascending=False).reset_index(drop=True)\n",
                "        temp_df['reverse_phase'] = temp_df['phase'].apply(lambda x: 1 if x == 0 else 0)\n",
                "\n",
                "        if time_range == 'ALL': pass\n",
                "        else: temp_df = temp_df.iloc[:number]\n",
                "\n",
                "        temp_df.at[len(temp_df)-1, 'raw_return'] = 0\n",
                "        temp_df['raw_cum_return'] = temp_df['raw_return'][::-1].cumsum()[::-1]\n",
                "\n",
                "        temp_df.at[len(temp_df)-1, 'index_return'] = 0\n",
                "        temp_df['index_cum_return'] = temp_df['index_return'][::-1].cumsum()[::-1]\n",
                "\n",
                "        temp_df.at[len(temp_df)-1, 'portfolio_return'] = 0\n",
                "        temp_df['portfolio_cum_return'] = temp_df['portfolio_return'][::-1].cumsum()[::-1]\n",
                "\n",
                "        temp_df['range'] = time_range\n",
                "        temp_df['range_order'] = temp_df['range'].map(range_order_dict)\n",
                "\n",
                "        temp_df['phase_state'] = temp_df['phase'].apply(lambda x: 'An toàn' if x == 1 else 'Rủi ro')\n",
                "\n",
                "        portfolio_progress_refined = pd.concat([portfolio_progress_refined, temp_df], axis=0)\n",
                "\n",
                "portfolio_progress_refined['raw_list'] = portfolio_progress_refined['raw_list'].apply(lambda x: ', '.join(x))\n",
                "portfolio_progress_refined['filtered_list'] = portfolio_progress_refined['filtered_list'].apply(lambda x: ', '.join(x))\n",
                "portfolio_progress_refined['holding_list'] = portfolio_progress_refined['holding_list'].apply(lambda x: ', '.join(x))\n",
                "portfolio_progress_refined['buy_signal'] = portfolio_progress_refined['buy_signal'].apply(lambda x: ', '.join(x))\n",
                "portfolio_progress_refined['sell_signal'] = portfolio_progress_refined['sell_signal'].apply(lambda x: ', '.join(x))\n"
            ]
        },
        {
            "cell_type": "code",
            "execution_count": 53,
            "metadata": {},
            "outputs": [
                {
                    "data": {
                        "text/plain": [
                            "14"
                        ]
                    },
                    "execution_count": 53,
                    "metadata": {},
                    "output_type": "execute_result"
                }
            ],
            "source": [
                "portfolio_name_df = pd.DataFrame({'portfolio_name': portfolio_progress_refined['portfolio_name'].unique()})\n",
                "\n",
                "#Các bảng cho báo cáo PowerBI\n",
                "portfolio_name_df.to_sql('custom_portfolio_name', vsuccess_engine, if_exists='replace', index=False)\n",
                "portfolio_progress_refined.to_sql('custom_portfolio_progress', vsuccess_engine, if_exists='replace', index=False)\n",
                "portfolio_order_df.to_sql('custom_portfolio_order', vsuccess_engine, if_exists='replace', index=False)\n",
                "portfolio_trading_df.to_sql('custom_portfolio_trading', vsuccess_engine, if_exists='replace', index=False)\n",
                "portfolio_holding_df.to_sql('custom_portfolio_holding', vsuccess_engine, if_exists='replace', index=False)\n",
                "portfolio_signal_df.to_sql('custom_portfolio_signal', vsuccess_engine, if_exists='replace', index=False)\n",
                "portfolio_filtered_df.to_sql('custom_portfolio_filtered', vsuccess_engine, if_exists='replace', index=False)"
            ]
        }
    ],
    "metadata": {
        "kernelspec": {
            "display_name": "base",
            "language": "python",
            "name": "python3"
        },
        "language_info": {
            "codemirror_mode": {
                "name": "ipython",
                "version": 3
            },
            "file_extension": ".py",
            "mimetype": "text/x-python",
            "name": "python",
            "nbconvert_exporter": "python",
            "pygments_lexer": "ipython3",
            "version": "3.12.7"
        }
    },
    "nbformat": 4,
    "nbformat_minor": 2
}
