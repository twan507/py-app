{
 "cells": [
  {
   "cell_type": "code",
   "execution_count": 1,
   "metadata": {},
   "outputs": [],
   "source": [
    "import os\n",
    "import pandas as pd\n",
    "import numpy as np\n",
    "from datetime import timedelta, datetime\n",
    "import datetime as dt\n",
    "import pandas_ta as ta\n",
    "import yfinance as yf\n",
    "import copy\n",
    "import random\n",
    "from pymongo import MongoClient\n",
    "import sys\n",
    "from dotenv import load_dotenv\n",
    "import warnings\n",
    "\n",
    "import feedparser\n",
    "import requests\n",
    "from bs4 import BeautifulSoup\n",
    "import google.generativeai as genai\n",
    "\n",
    "warnings.filterwarnings(\"ignore\")\n",
    "warnings.simplefilter('ignore', category=FutureWarning)\n",
    "pd.options.mode.chained_assignment = None\n",
    "\n",
    "load_dotenv()\n",
    "mongo_client = MongoClient(os.environ.get(\"MONGO_URI\"))\n",
    "stock_db = mongo_client[\"stock_db\"]"
   ]
  },
  {
   "cell_type": "code",
   "execution_count": 2,
   "metadata": {},
   "outputs": [],
   "source": [
    "def get_article_content(url):\n",
    "\n",
    "    # Set up headers for the request\n",
    "    headers = {\"User-Agent\": \"Mozilla/5.0 (Windows NT 10.0; Win64; x64) AppleWebKit/537.36 (KHTML, like Gecko) Chrome/91.0.4472.124 Safari/537.36\"}\n",
    "    \n",
    "    try:\n",
    "        # Get webpage content\n",
    "        response = requests.get(url, headers=headers)\n",
    "        response.raise_for_status()\n",
    "        \n",
    "        # Parse HTML\n",
    "        soup = BeautifulSoup(response.content, \"html.parser\")\n",
    "        \n",
    "        # Find article content\n",
    "        content_div = soup.find(\"div\", {\"itemprop\": \"articleBody\", \"id\": \"vst_detail\"})\n",
    "        if not content_div:\n",
    "            return \"\"\n",
    "        \n",
    "        # Extract text from paragraphs\n",
    "        article_content = \"\"\n",
    "        paragraphs = content_div.find_all(\"p\")\n",
    "        \n",
    "        for p in paragraphs:\n",
    "            # Skip author and publishing info\n",
    "            if p.get(\"class\") in [[\"pAuthor\"], [\"pPublishTimeSource\", \"right\"]]:\n",
    "                continue\n",
    "            \n",
    "            text = p.get_text(strip=True)\n",
    "            if text:\n",
    "                article_content += f\"{text}\\n\"\n",
    "        \n",
    "        return article_content.strip()\n",
    "        \n",
    "    except Exception:\n",
    "        return \"\"\n",
    "\n",
    "def get_summary(content):\n",
    "    genai.configure(api_key=os.environ.get(\"GEMINI_API\"))\n",
    "    model = genai.GenerativeModel('gemini-2.0-flash')\n",
    "    response = model.generate_content(f'Tóm tắt lại nội dung bài báo sau {content}. Yêu cầu viết liền thành 1 đoạn văn khoảng 50 từ')\n",
    "    return response.text\n",
    "\n",
    "# rss_url = \"https://vietstock.vn/830/chung-khoan/co-phieu.rss\"\n",
    "rss_url = \"https://vietstock.vn/761/kinh-te/vi-mo.rss\"\n",
    "\n",
    "feed = feedparser.parse(rss_url)\n",
    "\n",
    "co_phieu = {}\n",
    "for entry in feed.entries[:3]:\n",
    "    title = entry['title']\n",
    "    content = get_article_content(entry['id'])\n",
    "    co_phieu[title] = {'summary': get_summary(content), 'link': entry['id']}\n",
    "\n",
    "df = pd.DataFrame.from_dict(co_phieu, orient='index').reset_index().rename(columns={'index':'title'})"
   ]
  },
  {
   "cell_type": "code",
   "execution_count": 5,
   "metadata": {},
   "outputs": [
    {
     "data": {
      "text/plain": [
       "'UOB: Đà tăng trưởng của Việt Nam sẽ tiếp tục nhưng rủi ro vẫn còn ở phía trước'"
      ]
     },
     "execution_count": 5,
     "metadata": {},
     "output_type": "execute_result"
    }
   ],
   "source": [
    "df.iloc[0]['title']"
   ]
  },
  {
   "cell_type": "code",
   "execution_count": 6,
   "metadata": {},
   "outputs": [
    {
     "data": {
      "text/plain": [
       "'Ngân hàng UOB dự báo GDP Việt Nam năm 2025 tăng trưởng 7,0%, đến năm 2026 là 7,4% nhờ cải thiện hiệu quả từ Chính phủ. Dù xuất khẩu tăng trưởng mạnh mẽ, giúp Việt Nam đạt thặng dư thương mại lớn, UOB cảnh báo rủi ro từ thương mại quốc tế, đặc biệt trong bối cảnh căng thẳng thương mại Mỹ-Trung. UOB khuyến nghị Việt Nam tăng cường đầu tư vốn, nhất là đầu tư công, để giảm thiểu tác động tiêu cực từ suy thoái thương mại.\\n'"
      ]
     },
     "execution_count": 6,
     "metadata": {},
     "output_type": "execute_result"
    }
   ],
   "source": [
    "df.iloc[0]['summary']\n"
   ]
  },
  {
   "cell_type": "code",
   "execution_count": 7,
   "metadata": {},
   "outputs": [
    {
     "data": {
      "text/plain": [
       "'http://vietstock.vn/2025/03/uob-da-tang-truong-cua-viet-nam-se-tiep-tuc-nhung-rui-ro-van-con-o-phia-truoc-761-1280971.htm'"
      ]
     },
     "execution_count": 7,
     "metadata": {},
     "output_type": "execute_result"
    }
   ],
   "source": [
    "df.iloc[0]['link']\n"
   ]
  }
 ],
 "metadata": {
  "kernelspec": {
   "display_name": "base",
   "language": "python",
   "name": "python3"
  },
  "language_info": {
   "codemirror_mode": {
    "name": "ipython",
    "version": 3
   },
   "file_extension": ".py",
   "mimetype": "text/x-python",
   "name": "python",
   "nbconvert_exporter": "python",
   "pygments_lexer": "ipython3",
   "version": "3.12.7"
  }
 },
 "nbformat": 4,
 "nbformat_minor": 2
}
