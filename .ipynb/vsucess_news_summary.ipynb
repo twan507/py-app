{
 "cells": [
  {
   "cell_type": "code",
   "execution_count": 12,
   "metadata": {},
   "outputs": [],
   "source": [
    "import os\n",
    "import pandas as pd\n",
    "import numpy as np\n",
    "from datetime import timedelta, datetime\n",
    "import datetime as dt\n",
    "import pandas_ta as ta\n",
    "import yfinance as yf\n",
    "import copy\n",
    "import random\n",
    "from pymongo import MongoClient\n",
    "import sys\n",
    "from dotenv import load_dotenv\n",
    "import warnings\n",
    "import time\n",
    "from sqlalchemy import create_engine, text\n",
    "\n",
    "import feedparser\n",
    "import requests\n",
    "from bs4 import BeautifulSoup\n",
    "import google.generativeai as genai\n",
    "\n",
    "warnings.filterwarnings(\"ignore\")\n",
    "warnings.simplefilter('ignore', category=FutureWarning)\n",
    "pd.options.mode.chained_assignment = None\n",
    "\n",
    "load_dotenv()\n",
    "mongo_client = MongoClient(os.environ.get(\"MONGO_URI\"))\n",
    "stock_db = mongo_client[\"stock_db\"]\n",
    "\n",
    "vsuccess_engine = create_engine(os.environ.get(\"VSUCCESS_URI\"))"
   ]
  },
  {
   "cell_type": "code",
   "execution_count": 13,
   "metadata": {},
   "outputs": [],
   "source": [
    "def get_article_content(url):\n",
    "\n",
    "    # Set up headers for the request\n",
    "    headers = {\"User-Agent\": \"Mozilla/5.0 (Windows NT 10.0; Win64; x64) AppleWebKit/537.36 (KHTML, like Gecko) Chrome/91.0.4472.124 Safari/537.36\"}\n",
    "    \n",
    "    try:\n",
    "        # Get webpage content\n",
    "        response = requests.get(url, headers=headers)\n",
    "        response.raise_for_status()\n",
    "        \n",
    "        # Parse HTML\n",
    "        soup = BeautifulSoup(response.content, \"html.parser\")\n",
    "        \n",
    "        # Find article content\n",
    "        content_div = soup.find(\"div\", {\"itemprop\": \"articleBody\", \"id\": \"vst_detail\"})\n",
    "        if not content_div:\n",
    "            return \"\"\n",
    "        \n",
    "        # Extract text from paragraphs\n",
    "        article_content = \"\"\n",
    "        paragraphs = content_div.find_all(\"p\")\n",
    "        \n",
    "        for p in paragraphs:\n",
    "            # Skip author and publishing info\n",
    "            if p.get(\"class\") in [[\"pAuthor\"], [\"pPublishTimeSource\", \"right\"]]:\n",
    "                continue\n",
    "            \n",
    "            text = p.get_text(strip=True)\n",
    "            if text:\n",
    "                article_content += f\"{text}\\n\"\n",
    "        \n",
    "        return article_content.strip()\n",
    "        \n",
    "    except Exception:\n",
    "        return \"\"\n",
    "\n",
    "def get_summary(content, news_type):\n",
    "    genai.configure(api_key=os.environ.get(\"GEMINI_API\"))\n",
    "    model = genai.GenerativeModel('gemini-2.0-flash')\n",
    "\n",
    "    if news_type == 'tin_doanh_nghiep':\n",
    "        promt = f\"\"\"\n",
    "            Tóm tắt lại nội dung bài báo sau: {content}. Yêu cầu viết liền thành 1 đoạn văn khoảng 40 từ. \n",
    "            Tóm tắt cần được viêt dưới dạng HPG: ... Trong đó HPG là mã cổ phiếu mà bài báo muốn nói tới. Cần trích xuất mã cổ phiếu ra và ghi lên đầu tiên theo dạng như vậy.\n",
    "            Nêu không có mã cỏ phiếu nào được đề cập thì trình bày thẳng ý chính vào nội dung, tuyệt đối không sử dụng các cụm từ gián tiếp như \"Bài báo này, ...\" hay \"Trong bài báo, ...\"\n",
    "        \"\"\"\n",
    "    else:\n",
    "        promt = f\"\"\"\n",
    "            Tóm tắt lại nội dung bài báo sau: {content}. Yêu cầu viết liền thành 1 đoạn văn khoảng 20 từ. \n",
    "            Trình bày thẳng ý chính vào nội dung, tuyệt đối không sử dụng các cụm từ gián tiếp như \"Bài báo này, ...\" hay \"Trong bài báo, ...\" .\n",
    "        \"\"\"\n",
    "\n",
    "    response = model.generate_content(promt)\n",
    "    return response.text"
   ]
  },
  {
   "cell_type": "code",
   "execution_count": 14,
   "metadata": {},
   "outputs": [],
   "source": [
    "rss_url_dict = {\n",
    "    'tin_trong_nuoc': {\n",
    "        'vi_mo': 'https://vietstock.vn/761/kinh-te/vi-mo.rss',\n",
    "        'kinh_te_dau_tu': 'https://vietstock.vn/768/kinh-te/kinh-te-dau-tu.rss',\n",
    "        'chinh_sach': 'https://vietstock.vn/143/chung-khoan/chinh-sach.rss',\n",
    "    },\n",
    "    'tin_quoc_te': {\n",
    "        'tai_chinh_quoc_te': 'https://vietstock.vn/772/the-gioi/tai-chinh-quoc-te.rss',\n",
    "        'chung_khoan_the_gioi': 'https://vietstock.vn/773/the-gioi/chung-khoan-the-gioi.rss',\n",
    "        'kinh_te_nganh': 'https://vietstock.vn/775/the-gioi/kinh-te-nganh.rss',\n",
    "    },\n",
    "    'tin_doanh_nghiep': {\n",
    "        'hoat_Dong_kinh_doanh': 'https://vietstock.vn/737/doanh-nghiep/hoat-dong-kinh-doanh.rss',\n",
    "    }\n",
    "}"
   ]
  },
  {
   "cell_type": "code",
   "execution_count": 21,
   "metadata": {},
   "outputs": [],
   "source": [
    "news_df_dict = {}\n",
    "for news_type, url_dict in rss_url_dict.items():\n",
    "    temp_news_dict = {}\n",
    "\n",
    "    for url in url_dict.values():\n",
    "        feed = feedparser.parse(url)\n",
    "        #lấy 10 tin đầu tiên của mỗi danh mục, riêng tin doanh nghiệp thì lấy 30\n",
    "        if news_type == 'tin_doanh_nghiep':\n",
    "            entris_list = feed.entries[:30]\n",
    "        else:\n",
    "            entris_list = feed.entries[:10]\n",
    "\n",
    "        for entry in entris_list:\n",
    "            title = entry['title']\n",
    "            content = get_article_content(entry['id'])\n",
    "            temp_news_dict[title] = {'summary': get_summary(content, news_type), 'link': entry['id']}\n",
    "            time.sleep(5)\n",
    "\n",
    "        news_df_dict[news_type] = pd.DataFrame.from_dict(temp_news_dict, orient='index').reset_index().rename(columns={'index':'title'})"
   ]
  },
  {
   "cell_type": "code",
   "execution_count": 22,
   "metadata": {},
   "outputs": [
    {
     "data": {
      "text/plain": [
       "20"
      ]
     },
     "execution_count": 22,
     "metadata": {},
     "output_type": "execute_result"
    }
   ],
   "source": [
    "news_df_dict['tin_quoc_te'].to_sql('tin_quoc_te', vsuccess_engine, if_exists='replace', index=False)\n",
    "news_df_dict['tin_trong_nuoc'].to_sql('tin_trong_nuoc', vsuccess_engine, if_exists='replace', index=False)\n",
    "news_df_dict['tin_doanh_nghiep'].to_sql('tin_doanh_nghiep', vsuccess_engine, if_exists='replace', index=False)"
   ]
  }
 ],
 "metadata": {
  "kernelspec": {
   "display_name": "base",
   "language": "python",
   "name": "python3"
  },
  "language_info": {
   "codemirror_mode": {
    "name": "ipython",
    "version": 3
   },
   "file_extension": ".py",
   "mimetype": "text/x-python",
   "name": "python",
   "nbconvert_exporter": "python",
   "pygments_lexer": "ipython3",
   "version": "3.12.7"
  }
 },
 "nbformat": 4,
 "nbformat_minor": 2
}
